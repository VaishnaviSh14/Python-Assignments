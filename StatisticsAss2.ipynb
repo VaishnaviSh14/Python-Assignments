{
 "cells": [
  {
   "cell_type": "code",
   "execution_count": null,
   "id": "42f705e6-284a-4cc4-8a54-f092cf7b708f",
   "metadata": {},
   "outputs": [],
   "source": [
    "Q1. What are the three measures of central tendency?\n",
    "\n",
    "Ans.\n",
    "Three measures of central tendancy are - mean , median and mode.\n"
   ]
  },
  {
   "cell_type": "code",
   "execution_count": null,
   "id": "1caf5cab-9f7f-4f42-85f7-361de32ee567",
   "metadata": {},
   "outputs": [],
   "source": [
    "Q2. What is the difference between the mean, median, and mode? How are they used to measure the\n",
    "central tendency of a dataset?\n",
    "\n",
    "let us take an example x:{1,2,3,4,5,5,8}\n",
    "Ans.\n",
    "1. mean - It is used to calculate the avergage.\n",
    "The mean is (1+2+3+4+5+5+6+8)/7 = 4.85\n",
    "\n",
    "2. median - Median is the middle value of the given observations.\n",
    "    as the number of elements are odd median is 4\n",
    "    \n",
    "3. mode - Mode is the most repeated value in the given observation.\n",
    "  so mode will be 5"
   ]
  },
  {
   "cell_type": "code",
   "execution_count": null,
   "id": "2cc6a6cc-b56d-418a-916a-53cc97b4676e",
   "metadata": {},
   "outputs": [],
   "source": [
    "Q3. Measure the three measures of central tendency for the given height data:\n",
    "[178,177,176,177,178.2,178,175,179,180,175,178.9,176.2,177,172.5,178,176.5]\n",
    "\n",
    "Ans.\n",
    "1. mean = (172.5 + 175 + 175 + 176 + 176 + 176.2 + 176.5 + 177 + 177 + 178 + 178 + 178 + 178 + 178.2 + 178.9 + 179 + 180) / 17\n",
    "        = 177.01\n",
    "    \n",
    "2. median = 179.5\n",
    "\n",
    "3. mode = 178"
   ]
  },
  {
   "cell_type": "code",
   "execution_count": null,
   "id": "2b11f063-654f-481f-8b84-1f2835db8f6c",
   "metadata": {},
   "outputs": [],
   "source": [
    "Q4. Find the standard deviation for the given data:\n",
    "[178,177,176,177,178.2,178,175,179,180,175,178.9,176.2,177,172.5,178,176.5]\n",
    "\n",
    "Ans.\n",
    "  Standard deviation is root of 3.412(sample variance) = 1.847\n",
    "\n"
   ]
  },
  {
   "cell_type": "code",
   "execution_count": null,
   "id": "d2b1095a-5403-4d46-9b0c-ea04133350d9",
   "metadata": {},
   "outputs": [],
   "source": [
    "Q5. How are measures of dispersion such as range, variance, and standard deviation used to describe\n",
    "the spread of a dataset? Provide an example.\n",
    "\n",
    "Ans.\n",
    "Measures of dispersion, such as range, variance, and standard deviation, are used to describe how spread out or dispersed the data points are within a dataset.\n",
    "They provide insights into the variability or distribution of the data points around the central tendency, such as the mean or median. \n",
    "\n",
    "Range:\n",
    "The range is the simplest measure of dispersion and is calculated as the difference between the largest and smallest values in the dataset. It provides a basic understanding of the spread but is sensitive to extreme values.\n",
    "Example:\n",
    "Consider the following dataset representing the scores of ten students in a math test: {60, 65, 70, 72, 75, 78, 80, 85, 90, 95}.\n",
    "Range = Maximum value - Minimum value\n",
    "Range = 95 - 60 = 35\n",
    "In this example, the range is 35, indicating that the scores are spread out over a range of 35 points.\n",
    "\n",
    "Variance:\n",
    "Variance measures the average of the squared differences from the mean. It gives more weight to extreme values, making it more sensitive to outliers than the range.\n",
    "Example:\n",
    "Step 1: Calculate the mean\n",
    "Step 2: Calculate the squared differences from the mean for each value:\n",
    "Step 3: Calculate the average of squared differences\n",
    "\n",
    "formula of sample variance\n",
    "s² = Σ (xi - x̄)² / (n - 1)\n",
    "\n",
    "formula of population variance\n",
    "σ² = Σ (xi - μ)² / N\n",
    "\n",
    "\n",
    "\n",
    "Standard Deviation:\n",
    "Standard deviation is the square root of the variance and is often preferred over variance because it is in the same unit as the original data, making it more interpretable.\n",
    "Example:\n",
    "Standard Deviation = √Variance \n",
    "\n",
    "\n",
    "\n"
   ]
  },
  {
   "cell_type": "code",
   "execution_count": null,
   "id": "b31416ac-0bdb-4b16-87ef-bef42b7be584",
   "metadata": {},
   "outputs": [],
   "source": [
    "Q6. What is a Venn diagram?\n",
    "\n",
    "Ans.\n",
    "\n",
    "A Venn diagram is a visual representation used to show the relationships between different sets or groups of items.\n"
   ]
  },
  {
   "cell_type": "code",
   "execution_count": null,
   "id": "e0a93bc4-e643-4dbe-b03a-71f3579347cb",
   "metadata": {},
   "outputs": [],
   "source": [
    "Q7. For the two given sets A = (2,3,4,5,6,7) & B = (0,2,6,8,10). Find:\n",
    "(i) A B\n",
    "(ii) A ⋃ B\n",
    "\n",
    "Ans.\n",
    " (i) {2,6}\n",
    " (ii) {0,2,3,4,5,6,7,8,10}"
   ]
  },
  {
   "cell_type": "code",
   "execution_count": null,
   "id": "7859833d-57c8-4bcb-aed3-b6e2b657d4a1",
   "metadata": {},
   "outputs": [],
   "source": [
    "Q8. What do you understand about skewness in data?\n",
    "\n",
    "Ans.\n",
    "It refers to where the area bends towards."
   ]
  },
  {
   "cell_type": "code",
   "execution_count": null,
   "id": "8ee018f7-480c-45d9-861b-106cc315d500",
   "metadata": {},
   "outputs": [],
   "source": [
    "Q9. If a data is right skewed then what will be the position of median with respect to mean?\n",
    "\n",
    "Ans.\n",
    "mean>median"
   ]
  },
  {
   "cell_type": "code",
   "execution_count": null,
   "id": "47270f92-fd74-4ac9-927f-bca6ac13b2b7",
   "metadata": {},
   "outputs": [],
   "source": [
    "Q10. Explain the difference between covariance and correlation. How are these measures used in\n",
    "statistical analysis?\n",
    "\n",
    "Ans.\n",
    "Covariance:\n",
    "Covariance is a measure of how two variables change together. \n",
    "It indicates the direction of the linear relationship between the variables, whether they tend to increase or decrease together.\n",
    "\n",
    "Correlation is a standardized version of covariance, which scales the covariance to a range between -1 and +1.\n",
    "\n",
    "In statistical analysis, both covariance and correlation are used to study the relationship between variables."
   ]
  },
  {
   "cell_type": "code",
   "execution_count": null,
   "id": "e0703042-8815-4905-9898-42459d94434f",
   "metadata": {},
   "outputs": [],
   "source": [
    "Q11. What is the formula for calculating the sample mean? Provide an example calculation for a\n",
    "dataset.\n",
    "\n",
    "Ans.\n",
    "Sample mean(s) = xi/n\n",
    "eg - {1,2,3,4,5}\n",
    " so s = (1+2+3+4+5)/5 = 3"
   ]
  },
  {
   "cell_type": "code",
   "execution_count": null,
   "id": "b9b3073a-c327-467d-bd68-c67b7ff561ac",
   "metadata": {},
   "outputs": [],
   "source": [
    "Q12. For a normal distribution data what is the relationship between its measure of central tendency?\n",
    "\n",
    "Ans.\n",
    "mean = median = mode"
   ]
  },
  {
   "cell_type": "code",
   "execution_count": null,
   "id": "cfb8f403-d093-4e6f-b098-67b1419818b1",
   "metadata": {},
   "outputs": [],
   "source": [
    "Q13. How is covariance different from correlation?\n",
    "\n",
    "Ans.\n",
    "Covariance:\n",
    "Covariance is a measure of how two variables change together. \n",
    "It indicates the direction of the linear relationship between the variables, whether they tend to increase or decrease together.\n",
    "Cov(X, Y) = Σ [(Xᵢ - X̄) * (Yᵢ - Ȳ)] / n\n",
    "\n",
    "Correlation is a standardized version of covariance, which scales the covariance to a range between -1 and +1.\n",
    "Corr(X, Y) = Cov(X, Y) / (σₓ * σᵧ)\n",
    "\n"
   ]
  },
  {
   "cell_type": "code",
   "execution_count": null,
   "id": "0a3e391d-41d5-4ef3-b107-badc0b8fbb84",
   "metadata": {},
   "outputs": [],
   "source": [
    "Q14. How do outliers affect measures of central tendency and dispersion? Provide an example.\n",
    "\n",
    "Ans.\n",
    "Outliers can significantly impact measures of central tendency and dispersion in a dataset. Central tendency measures, such as the mean and median, can be particularly sensitive to extreme values, while measures of dispersion,\n",
    "such as the range, variance, and standard deviation, can also be affected, leading to potential distortions in the representation of the data.\n",
    "\n",
    "\n",
    "for eg - x:{1,2,3,4,5}\n",
    "mean will be 2 and median will also be 3\n",
    "\n",
    "now we have an outlier 100\n",
    "so x:{1,2,3,4,5,100}\n",
    "now  mean will be 191.6\n",
    "and median will be (3+4)/2 = 3.5\n",
    "\n",
    "we can see the difference"
   ]
  }
 ],
 "metadata": {
  "kernelspec": {
   "display_name": "Python 3 (ipykernel)",
   "language": "python",
   "name": "python3"
  },
  "language_info": {
   "codemirror_mode": {
    "name": "ipython",
    "version": 3
   },
   "file_extension": ".py",
   "mimetype": "text/x-python",
   "name": "python",
   "nbconvert_exporter": "python",
   "pygments_lexer": "ipython3",
   "version": "3.10.8"
  }
 },
 "nbformat": 4,
 "nbformat_minor": 5
}
