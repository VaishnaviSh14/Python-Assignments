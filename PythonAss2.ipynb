{
 "cells": [
  {
   "cell_type": "markdown",
   "id": "25747ed5-eafc-4a74-89e0-9647bcc05868",
   "metadata": {},
   "source": [
    "Q1. How do you comment code in Python? What are the different types of comments?Q1. How do you comment code in Python? What are the different types of comments?\n",
    "\n",
    "#Ans1\n",
    "There are two types of comments we can use in Python -\n",
    "\n",
    "1.single-line comment\n",
    "A single-line comment starts and ends in the same line.\n",
    "We use the # symbol to write a single-line comment. \n",
    "For example,\n",
    "#Printing Hello World\n",
    "print(\"Hello World\")\n",
    "\n",
    "\n",
    "2.multi-line comment\n",
    "Another way of doing this is to use triple quotes, either ''' or \"\"\".\n",
    "These triple quotes are generally used for multi-line strings.\n",
    "But if we do not assign it to any variable or function, we can use it as a comment.\n",
    "Eg-\n",
    "\"\"\"\n",
    "This is \n",
    "a\n",
    "multiline comment\n",
    "\"\"\""
   ]
  },
  {
   "cell_type": "markdown",
   "id": "8b016342-d69b-4a5f-a1d1-74edfb248e8c",
   "metadata": {},
   "source": [
    "Q2. What are variables in Python? How do you declare and assign values to variables?Q2. What are variables in Python? How do you declare and assign values to variables?\n",
    "\n",
    "#ANS2\n",
    "Variables are used to store data values that can be accessed and manipulated throughout your program.\n",
    "To declare and assign values to variables in Python, you simply use the assignment operator (=). \n",
    "Here's the basic syntax:\n",
    "a = \"Vaishnavi\"\n",
    "Here we are assigning the value vaishnavi to variable a"
   ]
  },
  {
   "cell_type": "markdown",
   "id": "9708c2be-4c08-46e9-b6b1-aca0a54226e9",
   "metadata": {},
   "source": [
    "Q3. How do you convert one data type to another in Python?Q3. How do you convert one data type to another in Python?\n",
    "\n",
    "#Ans3\n",
    "We can convert one data type to another using typecasting.\n",
    "for eg-\n",
    "a = 34.5\n",
    "print(type(a))\n",
    "The output will be float,if we want to get in int we need to convert from float to int this can be done as follows\n",
    "a = int(34.5)\n",
    "print(type(a))\n",
    "Now the output will be int"
   ]
  },
  {
   "cell_type": "markdown",
   "id": "1257f2b9-2e32-4997-9b3b-ae0e11437b6d",
   "metadata": {},
   "source": [
    "Q4. How do you write and execute a Python script from the command line?\n",
    "\n",
    "#Ans4\n",
    "\n",
    "To write and execute a Python script from the command line, you can follow these steps:\n",
    "\n",
    "Open a text editor and create a new file. You can use any text editor of your choice, such as Notepad, Sublime Text, or Visual Studio Code.\n",
    "\n",
    "Write your Python code in the text editor and save the file with a .py extension. For example, you can save the file as script.py.\n",
    "\n",
    "Open the command line or terminal on your operating system. The method for opening the command line varies depending on your operating system:\n",
    "\n",
    "On Windows: Press Win + R, type cmd, and press Enter.\n",
    "On macOS: Press Command + Space, type terminal, and press Enter.\n",
    "On Linux: Press Ctrl + Alt + T.\n",
    "Navigate to the directory where you saved your Python script using the cd command. \n",
    "\n",
    "\n",
    "cd Documents\n",
    "Once you are in the correct directory, you can execute the Python script by typing python followed by the name of the script file. For example:\n",
    "\n",
    "\n",
    "python script.py\n",
    "If you have multiple versions of Python installed on your system, you might need to specify the version explicitly. For example:\n",
    "\n",
    "python3 script.py\n",
    "Press Enter to run the command. The Python script will be executed, and the output, if any, will be displayed in the command line.\n",
    "\n"
   ]
  },
  {
   "cell_type": "markdown",
   "id": "da6512cb-4ca0-4fdc-9bd6-7de53cc0af09",
   "metadata": {},
   "source": [
    "Q5. Given a list my_list = [1, 2, 3, 4, 5], write the code to slice the list and obtain the sub-list [2, 3].Q5. Given a list my_list = [1, 2, 3, 4, 5], write the code to slice the list and obtain the sub-list [2, 3].\n",
    "\n",
    "\n",
    "#Ans5\n",
    "my_list = [1, 2, 3, 4, 5]\n",
    "my_list[1:-2]\n",
    "output-[2, 3]"
   ]
  },
  {
   "cell_type": "markdown",
   "id": "e93ed88b-2163-4375-82e3-789ee50dc232",
   "metadata": {},
   "source": [
    "Q6. What is a complex number in mathematics, and how is it represented in Python?Q6. What is a complex number in mathematics, and how is it represented in Python?\n",
    "\n",
    "\n",
    "#And6\n",
    "In mathematics, a complex number is a number that comprises a real part and an imaginary part. \n",
    "It is represented in the form a + bi, where \"a\" represents the real part, \"b\" represents the imaginary part, and \"i\" represents the imaginary unit,\n",
    "which is defined as the square root of -1.\n",
    "\n",
    "n Python, complex numbers are supported as a built-in data type. They can be represented using the complex class. complex numbers are supported as a built-in data type. They can be represented using the complex class. \n",
    "\n",
    "Eg-\n",
    "num = 2 + 5j\n",
    "type(num)\n",
    "output- complex\n",
    "\n",
    "Additionally, functions such as abs(), real(), and imag() can be used to calculate the absolute value, real part, and imaginary part of a complex number, respectively.Additionally, functions such as abs(), real(), and imag() can be used to calculate the absolute value, real part, and imaginary part of a complex number, respectively.\n",
    "\n",
    "Eg-\n",
    "num = 2 + 5j\n",
    "num.imag\n",
    "Output- 5.0"
   ]
  },
  {
   "cell_type": "markdown",
   "id": "ea356d88-ad76-4e67-827c-2178c4af4057",
   "metadata": {},
   "source": [
    "Q7. What is the correct way to declare a variable named age and assign the value 25 to it?Q7. What is the correct way to declare a variable named age and assign the value 25 to it?\n",
    "\n",
    "#Ans7\n",
    "In Python, you can declare a variable named age and assign the value 25 to it using the following syntax:\n",
    "    age = 27\n",
    "    print(age)\n",
    "    Output - 27"
   ]
  },
  {
   "cell_type": "markdown",
   "id": "68eff6f5-b5f3-4e0e-b504-a67c4a8a8026",
   "metadata": {},
   "source": [
    "Q8. Declare a variable named price and assign the value 9.99 to it. What data type does this variable\n",
    "belong to?Q8. Declare a variable named price and assign the value 9.99 to it. What data type does this variable\n",
    "belong to?\n",
    "\n",
    "#Ans8\n",
    "price = 9.99\n",
    "The data type is float"
   ]
  },
  {
   "cell_type": "markdown",
   "id": "a87743ed-b7bb-45d9-a3be-139c2e128926",
   "metadata": {},
   "source": [
    "Q9. Create a variable named name and assign your full name to it as a string. How would you print the\n",
    "value of this variable?\n",
    "\n",
    "#Ans9\n",
    "\n",
    "name = \"Vaishnavi Sharma\"\n",
    "print(name)"
   ]
  },
  {
   "cell_type": "markdown",
   "id": "a29b8a4b-229b-489a-98f6-8bba1a0c20f2",
   "metadata": {},
   "source": [
    "Q10. Given the string \"Hello, World!\", extract the substring \"World\".Q10. Given the string \"Hello, World!\", extract the substring \"World\".\n",
    "\n",
    "#Ans10\n",
    "Str = \"Hello, World!\"\n",
    "Str[7:-1]\n",
    "output-'World'"
   ]
  },
  {
   "cell_type": "markdown",
   "id": "21f10ad1-c37f-4396-8415-071c6da9ded9",
   "metadata": {},
   "source": [
    "Q11. Create a variable named \"is_student\" and assign it a boolean value indicating whether you are\n",
    "currently a student or not.Q11. Create a variable named \"is_student\" and assign it a boolean value indicating whether you are currently a student or not.\n",
    "\n",
    "#Ans11\n",
    "is_student = True"
   ]
  }
 ],
 "metadata": {
  "kernelspec": {
   "display_name": "Python 3 (ipykernel)",
   "language": "python",
   "name": "python3"
  },
  "language_info": {
   "codemirror_mode": {
    "name": "ipython",
    "version": 3
   },
   "file_extension": ".py",
   "mimetype": "text/x-python",
   "name": "python",
   "nbconvert_exporter": "python",
   "pygments_lexer": "ipython3",
   "version": "3.10.8"
  }
 },
 "nbformat": 4,
 "nbformat_minor": 5
}
