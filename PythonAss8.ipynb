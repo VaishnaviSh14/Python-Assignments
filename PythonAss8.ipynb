{
 "cells": [
  {
   "cell_type": "markdown",
   "id": "05d99651-b485-446a-bdaf-5d15280b4c98",
   "metadata": {},
   "source": [
    "Q1. Explain why we have to use the Exception class while creating a Custom Exception.\n",
    "\n",
    "Ans.\n",
    "When creating a custom exception in Python, it is recommended to use the base Exception class as the parent class for several important reasons:When creating a custom exception in Python, it is recommended to use the base Exception class as the parent class for several important reasons:\n",
    "\n",
    "Inherit built-in functionality\n",
    "Compatibility and interoperability\n",
    "Consistent exception handling\n",
    "Standardized documentation\n",
    "Future-proofing\n",
    "Tooling and IDE supportInherit built-in functionality\n"
   ]
  },
  {
   "cell_type": "code",
   "execution_count": null,
   "id": "c4f26326-c98d-4219-823d-0293e4b5b4cf",
   "metadata": {},
   "outputs": [],
   "source": [
    "Q2. Write a python program to print Python Exception Hierarchy.\n",
    "Ans.\n",
    "\n",
    "print(\"Python Exception Hierarchy:\")\n",
    "print(\"\\n\".join([cls.__name__ for cls in BaseException.__subclasses__()]))\n"
   ]
  },
  {
   "cell_type": "code",
   "execution_count": null,
   "id": "6a3950fb-56f8-457c-b1e2-90fce1c6d90e",
   "metadata": {},
   "outputs": [],
   "source": [
    "Q3. What errors are defined in the ArithmeticError class? Explain any two with an example.\n",
    "\n",
    "Ans.\n",
    "The ArithmeticError class is a base class for arithmetic-related exceptions in Python.\n",
    "It encompasses several specific errors that can occur during arithmetic operations.\n",
    "\n",
    "Eg1-\n",
    "try:\n",
    "    result = 10 / 0\n",
    "except ZeroDivisionError as e:\n",
    "    print(\"Error:\", e)  \n",
    "\n",
    "    \n",
    "Eg2-\n",
    "import sys\n",
    "try:\n",
    "    result = sys.maxsize + 1\n",
    "except OverflowError as e:\n",
    "    print(\"Error:\", e) \n"
   ]
  },
  {
   "cell_type": "code",
   "execution_count": null,
   "id": "66a71260-f7c3-47f0-b8e1-080f20ad0c92",
   "metadata": {},
   "outputs": [],
   "source": [
    "Q4. Why LookupError class is used? Explain with an example KeyError and IndexError.\n",
    "\n",
    "Ans.\n",
    "\n",
    "The LookupError class in Python is a base class for exceptions that occur when an invalid key or index is used to access elements in a data structure, such as a dictionary or a list. It acts as a parent class for more specific lookup-related exceptions, providing a way to catch multiple types of lookup errors in a single exception handling block.\n",
    "\n",
    "Two common subclasses of LookupError are KeyError and IndexError, which represent specific scenarios of lookup failures:\n",
    "\n",
    "KeyError: This error is raised when attempting to access a dictionary key that does not exist.\n",
    "Example:\n",
    "my_dict = {'apple': 1, 'banana': 2, 'orange': 3}\n",
    "\n",
    "try:\n",
    "    value = my_dict['grape']\n",
    "except KeyError as e:\n",
    "    print(\"Error:\", str(e))\n",
    "In this example, we try to access the key 'grape' from the dictionary my_dict. However, since this key does not exist in the dictionary, a KeyError is raised, indicating that the key is not found.\n",
    "\n",
    "IndexError: This error is raised when trying to access an index that is out of range in a sequence (e.g., list, tuple, string).\n",
    "Example:\n",
    "my_list = [10, 20, 30, 40, 50]\n",
    "\n",
    "try:\n",
    "    value = my_list[10]\n",
    "except IndexError as e:\n",
    "    print(\"Error:\", str(e)) \n"
   ]
  },
  {
   "cell_type": "code",
   "execution_count": null,
   "id": "a036afd4-21e5-4183-a1f8-b16b803c0d24",
   "metadata": {},
   "outputs": [],
   "source": [
    "Q5. Explain ImportError. What is ModuleNotFoundError?\n",
    "\n",
    "Ans.\n",
    "ImportError is an exception that is raised when there is an issue with importing a module in Python.\n",
    "It occurs when the Python interpreter cannot find the specified module or encounters an error while trying to import it. There can be various reasons for this error, such as a misspelled module name, incorrect file path, or missing dependencies.\n",
    "\n",
    "ModuleNotFoundError:\n",
    "ModuleNotFoundError is a subclass of ImportError, which was introduced in Python 3.6. It specifically indicates that the requested module cannot be found. In Python versions before 3.6, when a module couldn't be found, a generic ImportError was raised.\n",
    "However, starting from Python 3.6, the ModuleNotFoundError was introduced to provide more specific information about the nature of the import issue."
   ]
  },
  {
   "cell_type": "code",
   "execution_count": null,
   "id": "24ff601a-c779-443e-b849-d1a9c60c9c9b",
   "metadata": {},
   "outputs": [],
   "source": [
    "Q6. List down some best practices for exception handling in python.\n",
    "\n",
    "Ans.\n",
    "Specific Exception Catching\n",
    "Use Finally Clause\n",
    "Keep Exception Messages Informative\n",
    "Avoid Bare Except Blocks\n",
    "Avoid Overusing try-except Blocks\n",
    "Don't Suppress Exceptions Silently\n",
    "Use Custom Exceptions"
   ]
  }
 ],
 "metadata": {
  "kernelspec": {
   "display_name": "Python 3 (ipykernel)",
   "language": "python",
   "name": "python3"
  },
  "language_info": {
   "codemirror_mode": {
    "name": "ipython",
    "version": 3
   },
   "file_extension": ".py",
   "mimetype": "text/x-python",
   "name": "python",
   "nbconvert_exporter": "python",
   "pygments_lexer": "ipython3",
   "version": "3.10.8"
  }
 },
 "nbformat": 4,
 "nbformat_minor": 5
}
