{
 "cells": [
  {
   "cell_type": "code",
   "execution_count": null,
   "id": "886b3356-cb98-479b-b3c4-04ae6126baef",
   "metadata": {},
   "outputs": [],
   "source": [
    "#Ans1\n",
    "str = \"Vaishnavi\"\n",
    "str=[2,3,4,5,6,6,\"vaishnavi\",True]\n",
    "str = 67.8\n",
    "str = (\"apple\", \"banana\", \"cherry\")\n",
    "\n"
   ]
  },
  {
   "cell_type": "code",
   "execution_count": null,
   "id": "7538d9c6-cd01-4bc0-a4c1-c58093a4b4b2",
   "metadata": {},
   "outputs": [],
   "source": [
    "#Ans 2 \n",
    "(i) String\n",
    "(ii)String\n",
    "(iii)List\n",
    "(iv)Integer"
   ]
  },
  {
   "cell_type": "code",
   "execution_count": null,
   "id": "010f8472-edc1-43cc-b47d-9cccfd92515f",
   "metadata": {},
   "outputs": [],
   "source": [
    "#Ans 3\n",
    "(i) /\n",
    "This is Arithemtic operator used for dividing two variables and gives the remainder in floating point number.\n",
    "eg - \n",
    "a = 10\n",
    "b = 5\n",
    "c = a / b\n",
    "print(c)\n",
    "\n",
    "(ii) %\n",
    "This is Arithemtic operator which gives the remainder when two variables are divided.\n",
    "eg-\n",
    "a = 10\n",
    "b = 5\n",
    "c = a % b\n",
    "print(c)\n",
    "\n",
    "(iii) //\n",
    "This is Arithemtic operator which divides two variables and gives the remainder in integer form rather than floating point number\n",
    "eg-\n",
    "a = 10\n",
    "b = 5\n",
    "c = a // b\n",
    "print(c)\n",
    "\n",
    "(iv) **\n",
    "This is Arithemtic operator which gives power like in the below question it will give 10^5\n",
    "\n",
    "eg-\n",
    "a = 10\n",
    "b = 5\n",
    "c = a ** b\n",
    "print(c)"
   ]
  },
  {
   "cell_type": "code",
   "execution_count": null,
   "id": "27c7214b-2fd8-4dec-ac1d-fdd82102a2e7",
   "metadata": {},
   "outputs": [],
   "source": [
    "#Ans4\n",
    "li = [1,2,3,4,5,6,8,9,'vaishnavi',True]\n",
    "for element in li:\n",
    "    print(element, type(element))\n",
    "\n"
   ]
  },
  {
   "cell_type": "code",
   "execution_count": null,
   "id": "bb915fe8-baad-4c24-9181-987027476bd4",
   "metadata": {},
   "outputs": [],
   "source": [
    "#Ans5\n",
    "A = 10000\n",
    "B = 2\n",
    "\n",
    "count = 0\n",
    "while A % B == 0:\n",
    "    A = A / B \n",
    "    count += 1\n",
    "\n",
    "if count > 0:\n",
    "    print(\f"The number A is divisible by B, and it can be divided {count} times.\")\n",
    "else:\n",
    "    print(\"The number A is not divisible by B.\")\n",
    "\n",
    "output- The number A is divisible by B, and it can be divided 4 times."
   ]
  },
  {
   "cell_type": "code",
   "execution_count": null,
   "id": "cfb50b1f-77aa-4be8-bd72-a90ee18cdd51",
   "metadata": {},
   "outputs": [],
   "source": [
    "#Ans6\n",
    "li=[1,2,3,4,5,6,7,8,9,10,11,12,13,45,67,54,45,33,56,33,56,33,56,77,89]\n",
    "for n in li:\n",
    "    if n % 3 == 0:\n",
    "        print(f\"{n} is divisible by 3\")\n",
    "    else:\n",
    "        print(f\"{n} is not divisible by 3\")"
   ]
  },
  {
   "cell_type": "code",
   "execution_count": null,
   "id": "2273cdaa-5ac8-4326-9f01-993639d7f4a7",
   "metadata": {},
   "outputs": [],
   "source": [
    "#Ans7\n",
    "Mutable objects are those that allow you to change their value or data in place without affecting the object’s identity.\n",
    "EG-\n",
    "s = \"Vaish\"\n",
    "s[2] = a\n",
    "This will give error as String is immutable object we cannot change the value of i to a.\n",
    "\n",
    "\n",
    "In contrast, immutable objects don’t allow this kind of operation.\n",
    "You’ll just have the option of creating new objects of the same type with different values.\n",
    "Eg-\n",
    "li = [2,3,4,5,\"Vaishnavi\" , True]\n",
    "li[4] = \"Vaish\"\n",
    "As list is mutable vaishnavi would be chnanged to vaish."
   ]
  }
 ],
 "metadata": {
  "kernelspec": {
   "display_name": "Python 3 (ipykernel)",
   "language": "python",
   "name": "python3"
  },
  "language_info": {
   "codemirror_mode": {
    "name": "ipython",
    "version": 3
   },
   "file_extension": ".py",
   "mimetype": "text/x-python",
   "name": "python",
   "nbconvert_exporter": "python",
   "pygments_lexer": "ipython3",
   "version": "3.10.8"
  }
 },
 "nbformat": 4,
 "nbformat_minor": 5
}
