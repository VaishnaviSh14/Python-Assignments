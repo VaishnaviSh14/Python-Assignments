{
 "cells": [
  {
   "cell_type": "markdown",
   "id": "83afc3cb-c15d-4a88-b6de-dc8ef91c33ba",
   "metadata": {},
   "source": [
    "Q1. What is Statistics?\n",
    "Ans.\n",
    "Statistics is the science of collecting , organizing and analyzing data."
   ]
  },
  {
   "cell_type": "markdown",
   "id": "42594fb8-5ea6-4eb5-b5e4-cea0b7b6d5c2",
   "metadata": {},
   "source": [
    "Q2. Define the different types of statistics and give an example of when each type might be used.\n",
    "\n",
    "Ans.\n",
    "Different type of statistics are :-\n",
    "1. Descriptive statistics - It consists of organizing and summarizing the data.\n",
    "Eg- mean , median and mode , histograms, pie chart , bargraphs , variance etc.\n",
    " If a teacher wants to understand the average test score of her students, she can calculate the mean of all the scores to find the central tendency.\n",
    "    \n",
    "2. Inferential statistics - Inferential statistics involves making inferences or predictions about a population based on a sample data.\n",
    "It uses probability theory to draw conclusions and test hypotheses.\n",
    "Eg - t-test , z-test , p value\n",
    "A pharmaceutical company conducts an experiment to determine whether a new drug is more effective than an existing one by comparing the outcomes in two groups of patients using a hypothesis test."
   ]
  },
  {
   "cell_type": "markdown",
   "id": "bd270b4b-a58c-4ce2-a9fd-fbf747ed0673",
   "metadata": {},
   "source": [
    "Q3. What are the different types of data and how do they differ from each other? Provide an example of\n",
    "each type of data.\n",
    "Ans.\n",
    "The different types of data are\n",
    "1. Quantitative - It includes numerical data.\n",
    "There are two types of quantitaive data \n",
    "    1. Continous - It includes any numerical value , eg - height , weight of students in a class\n",
    "    2. Discrete - It includes only whole number , eg - number of children in a family\n",
    "    \n",
    "2. Qualitative - It includes categorial data\n",
    "There are two types of qualitative data\n",
    "    1. Nominal -Nominal data is the most basic type of data and represents categories or labels without any inherent order\n",
    "    eg - color of cars , gender of person\n",
    "    2. Ordinal - Ordinal data involves categories with a clear order or ranking, but the differences between the categories are not well-defined. \n",
    "    eg - assigning rank to universities"
   ]
  },
  {
   "cell_type": "markdown",
   "id": "b5061eaa-527d-4f8d-8b33-f356806c06f7",
   "metadata": {},
   "source": [
    "Q4. Categorise the following datasets with respect to quantitative and qualitative data types:\n",
    "(i) Grading in exam: A+, A, B+, B, C+, C, D, E\n",
    "(ii) Colour of mangoes: yellow, green, orange, red\n",
    "(iii) Height data of a class: [178.9, 179, 179.5, 176, 177.2, 178.3, 175.8,...]\n",
    "(iv) Number of mangoes exported by a farm: [500, 600, 478, 672, ...]\n",
    "\n",
    "Ans.\n",
    "(i) qualitative\n",
    "(ii) qualitavtive\n",
    "(iii) quantitative\n",
    "(iv) quantitative"
   ]
  },
  {
   "cell_type": "markdown",
   "id": "d43a4637-436f-4793-a802-4958b8dde578",
   "metadata": {},
   "source": [
    "Q5. Explain the concept of levels of measurement and give an example of a variable for each level.\n",
    "\n",
    "Ans.\n",
    "1. Nominal scale data - It include qualitative/cateogorical data , in this order does not matter.\n",
    "    eg - Gender , color of car\n",
    "    \n",
    "2. Ordinal scale data - In this ranking and order matters , and here the difference cannot be measured\n",
    "    eg - Assigning rank to universities \n",
    "    \n",
    "3. Interval scale data - In this rank and order matters , difference can also be measured excluding ratio.\n",
    "                         It does not have \"0\" starting value.\n",
    "    eg - Temperature\n",
    "    \n",
    "4. Ratio scale data - In this order and rank matters , difference and ratio can be measured\n",
    "                      It does have a \"0\" starting value.\n",
    "    eg - difference between grades of students"
   ]
  },
  {
   "cell_type": "markdown",
   "id": "1242ae16-7fb2-43a2-8a64-bd19b494b5d7",
   "metadata": {},
   "source": [
    "Q6. Why is it important to understand the level of measurement when analyzing data? Provide an\n",
    "example to illustrate your answer.\n",
    "\n",
    "Ans.\n",
    "It important to understand the level of measurement because it helps in -\n",
    "\n",
    "1. Selection of Appropriate Statistical Methods:\n",
    "Each level of measurement allows for specific statistical techniques and operations. Using the wrong statistical method can produce inaccurate results. Therefore, understanding the level of measurement helps researchers choose the appropriate analyses for their data.\n",
    "Example: Suppose we have data on customer satisfaction with a product, measured on a scale from 1 (lowest satisfaction) to 5 (highest satisfaction). Since customer satisfaction data is at the ordinal level, using the mean to calculate the average satisfaction would be inappropriate because it assumes that the intervals between the satisfaction levels are equal (interval level). Instead, the median or mode should be used as measures of central tendency for ordinal data.\n",
    "\n",
    "2. Interpretation of Results:\n",
    "The level of measurement affects how we interpret the results of statistical analyses. Different levels of measurement convey varying degrees of information and meaning. Misinterpreting results can lead to incorrect conclusions.\n",
    "Example: Consider a study that measures the effect of different exercise programs on weight loss. The programs are labeled A, B, and C (nominal level). If we use the mean to compare the average weight loss between programs, it may not be meaningful as there is no inherent order between the program labels. Using a bar chart or frequency distribution may be more appropriate to visualize the differences.\n",
    "\n",
    "3. Validity and Reliability:\n",
    "Understanding the level of measurement helps ensure the validity and reliability of the data collection process. Appropriate data collection methods should align with the level of measurement to ensure the accuracy and usefulness of the data.\n",
    "Example: In a survey asking respondents to rank their preferences for various ice cream flavors (ordinal data), the questionnaire design should avoid asking for exact numerical ratings or using arithmetic operations on the ranks, as it would not be meaningful and could lead to inaccurate conclusions.\n",
    "\n",
    "4. Data Transformation:\n",
    "When preparing data for analysis, researchers may need to transform the data to a different level of measurement. Understanding the original level of measurement is essential to determine the appropriate transformations to maintain data integrity.\n",
    "Example: Suppose we have data on the temperature of cities recorded in Fahrenheit (interval level) but need to convert it to Celsius (also interval level). The transformation can be done using the appropriate conversion formula because both Fahrenheit and Celsius scales are interval level measurements.\n",
    "\n",
    "\n"
   ]
  },
  {
   "cell_type": "markdown",
   "id": "2e46f4f0-4720-4863-b377-1b7cc377ebe1",
   "metadata": {},
   "source": [
    "Q7. How nominal data type is different from ordinal data type.\n",
    "\n",
    "Ans.\n",
    "1. Nominal scale data - It include qualitative/cateogorical data , in this order does not matter.\n",
    "    eg - Gender , color of car\n",
    "    \n",
    "2. Ordinal scale data - In this ranking and order matters , and here the difference cannot be measured\n",
    "    eg - Assigning rank to universities \n"
   ]
  },
  {
   "cell_type": "markdown",
   "id": "438d3d06-0a40-4520-a004-77331880171d",
   "metadata": {},
   "source": [
    "Q8. Which type of plot can be used to display data in terms of range?\n",
    "Ans. \n",
    "Histogram. If the groups depicted in a bar chart are actually continuous numeric ranges, we can push the bars together to generate a histogram.\n",
    "Bar lengths in histograms typically correspond to counts of data points, and their patterns demonstrate the distribution of variables in your data.\n",
    "\n"
   ]
  },
  {
   "cell_type": "markdown",
   "id": "580207af-9cf0-4327-8326-234d61fdf650",
   "metadata": {},
   "source": [
    "Q9. Describe the difference between descriptive and inferential statistics. Give an example of each\n",
    "type of statistics and explain how they are used.\n",
    "\n",
    "Ans.\n",
    "1. Descriptive statistics - It consists of organizing and summarizing the data.\n",
    "Eg- mean , median and mode , histograms, pie chart , bargraphs , variance etc.\n",
    " If a teacher wants to understand the average test score of her students, she can calculate the mean of all the scores to find the central tendency.\n",
    "    \n",
    "2. Inferential statistics - Inferential statistics involves making inferences or predictions about a population based on a sample data.\n",
    "It uses probability theory to draw conclusions and test hypotheses.\n",
    "Eg - t-test , z-test , p value\n",
    "A pharmaceutical company conducts an experiment to determine whether a new drug is more effective than an existing one by comparing the outcomes in two groups of patients using a hypothesis test.\n"
   ]
  },
  {
   "cell_type": "markdown",
   "id": "3f44f9cb-735a-4ab6-82dc-d4d1907ed3c9",
   "metadata": {},
   "source": [
    "Q10. What are some common measures of central tendency and variability used in statistics? Explain\n",
    "how each measure can be used to describe a dataset.\n",
    "\n",
    "Ans.\n",
    "Measures of Central Tendency:\n",
    "\n",
    "Mean: The mean is the average value of a dataset and is calculated by summing all the values and then dividing by the number of data points. The formula for the mean is: Mean = (Sum of all values) / (Number of data points).\n",
    "Usage: The mean is widely used to describe the typical value or central tendency of a dataset.\n",
    "\n",
    "Median: The median is the middle value of an ordered dataset (when arranged in ascending or descending order). If the dataset has an even number of values, the median is the average of the two middle values.\n",
    "Usage: The median is a robust measure of central tendency that is less affected by extreme values.\n",
    "\n",
    "Mode: The mode is the value that appears most frequently in a dataset.\n",
    "Usage: The mode is useful for categorical or discrete datasets, where it helps identify the most common category or value. It is particularly useful when dealing with nominal data.\n",
    "\n",
    "Measures of Variability:\n",
    "\n",
    "Range: The range is the difference between the maximum and minimum values in a dataset.\n",
    "Usage: The range provides a simple measure of the spread or variability of the data. However, it is sensitive to outliers and may not fully represent the dispersion when the dataset is large.\n",
    "\n",
    "Variance: The variance measures the average squared deviation of each data point from the mean. It quantifies how much the data points vary from the mean.\n",
    "Usage: Variance provides an indication of the data's spread around the mean. It is used as a basis for calculating other measures like the standard deviation and is especially useful in normal distribution-based statistical analysis.\n",
    "\n",
    "Standard Deviation: The standard deviation is the square root of the variance. It measures the average distance of data points from the mean and is expressed in the same units as the data.\n",
    "Usage: The standard deviation is a commonly used measure of variability. It describes the spread of the data points around the mean and provides insights into the data's dispersion. It is often used to understand the variability and assess the level of uncertainty in the dataset.\n",
    "\n",
    "\n"
   ]
  }
 ],
 "metadata": {
  "kernelspec": {
   "display_name": "Python 3 (ipykernel)",
   "language": "python",
   "name": "python3"
  },
  "language_info": {
   "codemirror_mode": {
    "name": "ipython",
    "version": 3
   },
   "file_extension": ".py",
   "mimetype": "text/x-python",
   "name": "python",
   "nbconvert_exporter": "python",
   "pygments_lexer": "ipython3",
   "version": "3.10.8"
  }
 },
 "nbformat": 4,
 "nbformat_minor": 5
}
