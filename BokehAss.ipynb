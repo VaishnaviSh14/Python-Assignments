{
 "cells": [
  {
   "cell_type": "markdown",
   "id": "239796ae-24bd-4507-b56b-4b791b79df5c",
   "metadata": {},
   "source": [
    "Q1. How can you create a Bokeh plot using Python code?\n",
    "\n",
    "Ans To create a Bokeh Plot we need to follow these steps\n",
    "\n",
    "import bokeh.io\n",
    "import bokeh.plotting\n",
    "bokeh.io.ouput_notebook\n",
    "from bokeh.plotting import figure,output_file,show\n",
    "from bokeh.sampledata.iris import flowers\n"
   ]
  },
  {
   "cell_type": "code",
   "execution_count": null,
   "id": "01329ae3-3ad0-4497-bdb8-6188d8c6ae05",
   "metadata": {},
   "outputs": [],
   "source": [
    "Q2. What are glyphs in Bokeh, and how can you add them to a Bokeh plot? Explain with an example.\n",
    "\n",
    "Ans.\n",
    "In Bokeh, glyphs are visual shapes used to represent data points on a plot. They are essential for creating various types of data visualizations such as scatter plots, line charts, bar charts, and more. Bokeh provides a wide range of glyph types, including circles, squares, lines, patches, wedges, etc.\n",
    "\n",
    "To add glyphs to a Bokeh plot, you can use the figure function from the bokeh.plotting module. Then, you can call the appropriate glyph method on the figure object to add the specific type of glyph you want to display.\n",
    "\n",
    "EG-\n",
    "from bokeh.plotting import figure, show\n",
    "x = [1, 2, 3, 4, 5]\n",
    "y = [6, 7, 2, 4, 5]\n",
    "\n",
    "p = figure(title=\"Scatter Plot Example\", x_axis_label=\"X-axis\", y_axis_label=\"Y-axis\")\n",
    "p.circle(x, y, size=10, color=\"blue\", alpha=0.8)\n",
    "show(p)\n",
    "\n",
    "\n",
    "\n"
   ]
  },
  {
   "cell_type": "code",
   "execution_count": null,
   "id": "d3a24925-d6be-4284-97ec-d48eef0505e2",
   "metadata": {},
   "outputs": [],
   "source": [
    "Q3. How can you customize the appearance of a Bokeh plot, including the axes, title, and legend?\n",
    "\n",
    "Ans.\n",
    "\n",
    "from bokeh.plotting import figure, show\n",
    "\n",
    "x = [1, 2, 3, 4, 5]\n",
    "y = [6, 7, 2, 4, 5]\n",
    "\n",
    "p = figure(title=\"Scatter Plot Example\", x_axis_label=\"X-axis\", y_axis_label=\"Y-axis\",\n",
    "           x_axis_label_text_font_size=\"16pt\", y_axis_label_text_font_size=\"16pt\",\n",
    "           x_axis_label_text_font=\"times\", y_axis_label_text_font=\"times\",\n",
    "           x_minor_ticks=2, y_minor_ticks=2)\n",
    "\n",
    "p.circle(x, y, size=10, color=\"blue\", alpha=0.8)\n",
    "\n",
    "show(p)\n"
   ]
  },
  {
   "cell_type": "code",
   "execution_count": null,
   "id": "b2b500c3-c158-481c-9674-b4a1f7619415",
   "metadata": {},
   "outputs": [],
   "source": [
    "Q4. What is a Bokeh server, and how can you use it to create interactive plots that can be updated in\n",
    "real time?\n",
    "\n",
    "Ans.\n",
    "A Bokeh server is a Python server that allows you to create interactive web applications and dashboards with Bokeh plots.\n",
    "Follow steps to create interactive plots:\n",
    "import modules, create figure and data, define callback function, create UI elements, arrange layout, add to curdoc, and run the server.\n",
    "Bokeh server allows dynamic and responsive data visualization tools and interactive dashboards.\n"
   ]
  },
  {
   "cell_type": "markdown",
   "id": "0c2b4abc-6486-47b3-8f0b-e84666d04446",
   "metadata": {},
   "source": [
    "Q5. How can you embed a Bokeh plot into a web page or dashboard using Flask or Django?Q5. How can you embed a Bokeh plot into a web page or dashboard using Flask or Django?\n",
    "\n",
    "Ans.\n",
    "\n",
    "\n",
    "To embed a Bokeh plot into a web page or dashboard using Flask or Django, you need to follow these general steps:\n",
    "Create a Bokeh plot: First, create your Bokeh plot using the Bokeh plotting API as usual. Define your data, create a figure, add glyphs, and customize the plot as needed.\n",
    "\n",
    "Convert the Bokeh plot to HTML: Use the bokeh.embed.file_html() function to convert the Bokeh plot into an HTML representation.\n",
    "\n",
    "Integrate with Flask or Django:\n",
    "\n",
    "For Flask:\n",
    "Install Flask (if you haven't already): pip install Flask\n",
    "Create a Flask web application and render the Bokeh plot's HTML using a route and template.\n",
    "Use the render_template function to pass the Bokeh plot's HTML to the template and display it on the web page.\n",
    "\n",
    "For Django:\n",
    "Install Django: pip install django\n",
    "Create a Django web application and define a view function that generates the Bokeh plot's HTML using the bokeh.embed.file_html() function.\n",
    "Create a template (HTML file) that will render the Bokeh plot's HTML using the Django template engine.\n",
    "Map the view function to a URL using Django's URL configuration, and render the template with the Bokeh plot's HTML."
   ]
  }
 ],
 "metadata": {
  "kernelspec": {
   "display_name": "Python 3 (ipykernel)",
   "language": "python",
   "name": "python3"
  },
  "language_info": {
   "codemirror_mode": {
    "name": "ipython",
    "version": 3
   },
   "file_extension": ".py",
   "mimetype": "text/x-python",
   "name": "python",
   "nbconvert_exporter": "python",
   "pygments_lexer": "ipython3",
   "version": "3.10.8"
  }
 },
 "nbformat": 4,
 "nbformat_minor": 5
}
