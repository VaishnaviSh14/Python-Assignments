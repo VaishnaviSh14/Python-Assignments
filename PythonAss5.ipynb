{
 "cells": [
  {
   "cell_type": "code",
   "execution_count": null,
   "id": "f9a7486d-5a7b-4eed-a8ad-e28490ac4aa6",
   "metadata": {},
   "outputs": [],
   "source": [
    "Q1. Explain Class and Object with respect to Object-Oriented Programming. Give a suitable example.\n",
    "In object-oriented programming (OOP), a class is a blueprint or template that defines the characteristics (attributes) and behaviors (methods) of a particular type of object.\n",
    "It serves as a blueprint for creating objects, which are instances of the class. \n",
    "An object, on the other hand, is a specific instance of a class that has its own unique state and behavior.\n",
    "\n",
    "Eg-\n",
    "class car:\n",
    "    def test():\n",
    "        print(\"i have a car\")\n",
    "\n",
    "obj_car = car()\n",
    "obj_car.test()\n",
    "    "
   ]
  },
  {
   "cell_type": "code",
   "execution_count": null,
   "id": "80de3ab1-daf9-48b4-984f-586ea7b957eb",
   "metadata": {},
   "outputs": [],
   "source": [
    "Q2. Name the four pillars of OOPs.\n",
    "\n",
    "Ans.\n",
    "The four pillar of oops are -\n",
    "1.Inheritance\n",
    "2.Abstraction\n",
    "3.Encapsulation\n",
    "4.Polymorphism"
   ]
  },
  {
   "cell_type": "code",
   "execution_count": null,
   "id": "b87ac643-d38b-4809-99af-09c729561477",
   "metadata": {},
   "outputs": [],
   "source": [
    "Q3. Explain why the __init__() function is used. Give a suitable example.\n",
    "\n",
    "Ans.\n",
    "The __init__() function is a special method used in Python classes to initialize the objects of a class.\n",
    "It is automatically called when an object is created from the class and allows you to set the initial state of the object.\n",
    "\n",
    "Eg-\n",
    "class pwskiils:\n",
    "    def __init__(self , stu_name , rollno):\n",
    "        self.stu_name = name\n",
    "        self.rollno = roll\n",
    "        \n",
    "obj = pwskills(\"vaishnavi\" , 45)\n",
    "obj.stu_name \n",
    "obj.rollno\n"
   ]
  },
  {
   "cell_type": "code",
   "execution_count": null,
   "id": "2f86f29c-5d1c-480d-9700-57f410f45628",
   "metadata": {},
   "outputs": [],
   "source": [
    "Q4. Why self is used in OOPs?\n",
    "\n",
    "Ans.\n",
    "In object-oriented programming, self is a convention used to refer to the instance of the class within the class itself.\n",
    "It is the first parameter of any instance method defined within a class and represents the instance that the method is being called on.\n",
    "\n",
    "By using self, you can access the attributes and methods of the class within its own methods. \n",
    "It allows you to differentiate between instance variables (attributes) and local variables within the class methods."
   ]
  },
  {
   "cell_type": "code",
   "execution_count": null,
   "id": "2c8f56e2-90ab-4857-a703-1ee71aa2f1ad",
   "metadata": {},
   "outputs": [],
   "source": [
    "Q5. What is inheritance? Give an example for each type of inheritance.\n",
    "\n",
    "Ans.\n",
    "Inheritance is a fundamental concept in object-oriented programming that allows a class to inherit properties and behaviors from another class.\n",
    "The class that is being inherited from is called the base class, parent class, or superclass.\n",
    "The class that inherits from the base class is called the derived class, child class, or subclass.\n",
    "Inheritance enables code reuse, promotes modularity, and allows the creation of more specialized classes based on existing ones.\n",
    "\n",
    "1.Single Inheritance\n",
    "Eg -\n",
    "class Test:\n",
    "    def display1(self):\n",
    "        print(\"inside Test class\")\n",
    "        \n",
    "class test2(Test):\n",
    "     def display2(self):\n",
    "        print(\"inside test2 class\")\n",
    "        \n",
    "obj = test2()\n",
    "obj.display1"
   ]
  }
 ],
 "metadata": {
  "kernelspec": {
   "display_name": "Python 3 (ipykernel)",
   "language": "python",
   "name": "python3"
  },
  "language_info": {
   "codemirror_mode": {
    "name": "ipython",
    "version": 3
   },
   "file_extension": ".py",
   "mimetype": "text/x-python",
   "name": "python",
   "nbconvert_exporter": "python",
   "pygments_lexer": "ipython3",
   "version": "3.10.8"
  }
 },
 "nbformat": 4,
 "nbformat_minor": 5
}
