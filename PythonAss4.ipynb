{
 "cells": [
  {
   "cell_type": "code",
   "execution_count": null,
   "id": "67fa637e-7c08-4e99-a1d7-800f3b5613e1",
   "metadata": {},
   "outputs": [],
   "source": [
    "#Q1. Create a python program to sort the given list of tuples based on integer value using a\n",
    "lambda function.\n",
    "[('Sachin Tendulkar', 34357), ('Ricky Ponting', 27483), ('Jack Kallis', 25534), ('Virat Kohli', 24936)]\n",
    "\n",
    "Ans.\n",
    "t = [('Sachin Tendulkar', 34357), ('Ricky Ponting', 27483), ('Jack Kallis', 25534), ('Virat Kohli', 24936)]\n",
    "\n",
    "sorted_t = sorted(t, key=lambda x: x[1])\n",
    "\n",
    "for item in sorted_t:\n",
    "    print(item)\n",
    "    \n",
    "output-\n",
    "('Virat Kohli', 24936)\n",
    "('Jack Kallis', 25534)\n",
    "('Ricky Ponting', 27483)\n",
    "('Sachin Tendulkar', 34357)\n"
   ]
  },
  {
   "cell_type": "code",
   "execution_count": null,
   "id": "3c8ba386-fc48-4c4c-ac6d-79984580f6b3",
   "metadata": {},
   "outputs": [],
   "source": [
    "#Q2. Write a Python Program to find the squares of all the numbers in the given list of integers using\n",
    "lambda and map functions.\n",
    "[1, 2, 3, 4, 5, 6, 7, 8, 9, 10]\n",
    "\n",
    "Ans.\n",
    "\n",
    "li = [1, 2, 3, 4, 5, 6, 7, 8, 9, 10]\n",
    "list(map(lambda x : x**2 , li))\n",
    "\n",
    "Output - [1, 4, 9, 16, 25, 36, 49, 64, 81, 100]"
   ]
  },
  {
   "cell_type": "code",
   "execution_count": null,
   "id": "241e634f-be99-4880-a7e1-13bbbf0a0fd8",
   "metadata": {},
   "outputs": [],
   "source": [
    "#Q3. Write a python program to convert the given list of integers into a tuple of strings. Use map and\n",
    "lambda functions\n",
    "Given String: [1, 2, 3, 4, 5, 6, 7, 8, 9, 10]\n",
    "Expected output: ('1', '2', '3', '4', '5', '6', '7', '8', '9', '10')\n",
    "\n",
    "Ans.\n",
    "numbers = [1, 2, 3, 4, 5, 6, 7, 8, 9, 10]\n",
    "\n",
    "string_tuple = tuple(map(lambda x: str(x), numbers))\n",
    "\n",
    "print(string_tuple)\n",
    "\n",
    "Output - ('1', '2', '3', '4', '5', '6', '7', '8', '9', '10')\n"
   ]
  },
  {
   "cell_type": "code",
   "execution_count": null,
   "id": "d59c98ab-dd4a-4760-9ee1-0075fd304536",
   "metadata": {},
   "outputs": [],
   "source": [
    "#Q4. Write a python program using reduce function to compute the product of a list containing numbers\n",
    "from 1 to 25.\n",
    "\n",
    "Ans.\n",
    "from functools import reduce\n",
    "\n",
    "li = list(range(1,26))\n",
    "reduce(lambda x , y : x*y , li)\n",
    "\n",
    "Output - 15511210043330985984000000"
   ]
  },
  {
   "cell_type": "code",
   "execution_count": null,
   "id": "d6b9825c-e48c-48e4-9544-a54f5a27ee3c",
   "metadata": {},
   "outputs": [],
   "source": [
    "#Q5. Write a python program to filter the numbers in a given list that are divisible by 2 and 3 using the\n",
    "filter function.\n",
    "[2, 3, 6, 9, 27, 60, 90, 120, 55, 46]\n",
    "\n",
    "Ans.\n",
    "li = [2, 3, 6, 9, 27, 60, 90, 120, 55, 46]\n",
    "list(filter(lambda x : x % 2 == 0 or x % 3==0 , li))\n",
    "\n",
    "Output - [2, 3, 6, 9, 27, 60, 90, 120, 46]"
   ]
  },
  {
   "cell_type": "code",
   "execution_count": null,
   "id": "9918ee39-fa6a-4256-92b8-a3aaf46adfd8",
   "metadata": {},
   "outputs": [],
   "source": [
    "#Q6. Write a python program to find palindromes in the given list of strings using lambda and filter\n",
    "function.\n",
    "['python', 'php', 'aba', 'radar', 'level']\n",
    "\n",
    "Ans.\n",
    "li = ['python', 'php', 'aba', 'radar', 'level']\n",
    "list(filter(lambda x : x == x[::-1],li))\n",
    "\n",
    "Output - "
   ]
  }
 ],
 "metadata": {
  "kernelspec": {
   "display_name": "Python 3 (ipykernel)",
   "language": "python",
   "name": "python3"
  },
  "language_info": {
   "codemirror_mode": {
    "name": "ipython",
    "version": 3
   },
   "file_extension": ".py",
   "mimetype": "text/x-python",
   "name": "python",
   "nbconvert_exporter": "python",
   "pygments_lexer": "ipython3",
   "version": "3.10.8"
  }
 },
 "nbformat": 4,
 "nbformat_minor": 5
}
