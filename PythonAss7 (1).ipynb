{
  "metadata": {
    "kernelspec": {
      "name": "python",
      "display_name": "Python (Pyodide)",
      "language": "python"
    },
    "language_info": {
      "codemirror_mode": {
        "name": "python",
        "version": 3
      },
      "file_extension": ".py",
      "mimetype": "text/x-python",
      "name": "python",
      "nbconvert_exporter": "python",
      "pygments_lexer": "ipython3",
      "version": "3.8"
    }
  },
  "nbformat_minor": 5,
  "nbformat": 4,
  "cells": [
    {
      "cell_type": "markdown",
      "source": "Q1. What is an Exception in python? Write the difference between Exceptions and syntax errors\nAns.\n\nIn Python, an exception is a runtime error that occurs during the execution of a program. \nWhen an exceptional situation arises, Python raises an exception, indicating that something unexpected or erroneous has happened. Exceptions allow the program to handle errors gracefully and provide a way to propagate error information up the call stack.\n\nDifferences between Exceptions and Syntax Errors:\n\nOccurrence:\nException: Exceptions occur during the runtime of a program when an error condition is encountered while executing code.\nSyntax Error: Syntax errors, also known as parsing errors, occur when the Python interpreter encounters code that does not follow the proper syntax rules of the language. These errors happen before the code is executed.\nHandling:\n\nException: Exceptions can be caught and handled using try-except blocks, allowing the program to gracefully recover from the error and continue its execution.\nSyntax Error: Syntax errors cannot be caught or handled within the program. They need to be fixed by the developer before the code can be successfully executed.\nExamples:\n\nException: Examples of exceptions include ZeroDivisionError, TypeError, IndexError, ValueError, etc. For instance, trying to divide a number by zero or accessing an index that doesn't exist in a list would raise exceptions.\nSyntax Error: Examples of syntax errors include forgetting a colon at the end of an if statement, using an invalid character in a variable name, or mismatched parentheses.nd syntax errors\nAns.\n\n",
      "metadata": {},
      "id": "33f8d9ab-719e-4e6a-9959-aff829b275ab"
    },
    {
      "cell_type": "markdown",
      "source": "Q2. What happens when an exception is not handled? Explain with an example.\n\nWhen an exception is not handled, it propagates up the call stack until it reaches the top-level scope of the program.\nIf the exception is still not handled at this point, the program will terminate, and an error message, including the exception's type and details, will be displayed. \nThis abrupt termination is known as an \"unhandled exception\" or \"uncaught exception.\"\n\nEg-\nl = [12,4,5,6,7]\nl[10]\n\nIt will show this -\n---------------------------------------------------------------------------\nIndexError                                Traceback (most recent call last)\nCell In[1], line 2\n      1 l = [12,4,5,6,7]\n----> 2 l[10]\n\nIndexError: list index out of range\n",
      "metadata": {},
      "id": "47726413-dcd7-4275-93cc-81317220d206"
    },
    {
      "cell_type": "markdown",
      "source": "Q3.Which Python statements are used to manage and handle exceptions? Explain with an example.\nAns.\n\nIn Python, try, except, else, and finally statements are used to manage and handle exceptions. \nThese statements allow you to gracefully handle errors and implement error recovery mechanisms in your code.\n\nEg-\ntry:\n    f=open(\"test.txt\",'w')\n    f.write(\"Hello\")\nexcept Exception as e:\n    print(\"There is some issue\" + e)\nelse:\n    print(\"This block will execute once try will execute itself without an exception\")\nfinally:\n    print(\"This block will always execute\")\n    f.close()\n",
      "metadata": {},
      "id": "c151d4cc-69d0-4a29-b94b-c3ad3c1d26ed"
    },
    {
      "cell_type": "markdown",
      "source": "Q4. Explain with an example.\na. try and else\nb. finally\nc. raise\n\nAns.\na.\nIn Python, the try and else blocks are used for handling exceptions in code.\nAn exception is an error that occurs during the execution of a program, disrupting the normal flow of the program. \nUsing these blocks allows you to handle potential errors gracefully and take appropriate actions.\n\ntry:\n    f=open(\"test.txt\",'w')\n    f.write(\"Hello\")\nexcept Exception as e:\n    print(\"There is some issue\" + e)\nelse:\n    f.close()\n    \nb.\nThe finally block is used in conjunction with try and except blocks and provides a way to ensure that some code is executed no matter what, \nwhether an exception occurred or not.\n\ntry:\n    f=open(\"test.txt\",'w')\n    f.write(\"Hello\")\nexcept Exception as e:\n    print(\"There is some issue\" + e)\nelse:\n    print(\"This block will execute once try will execute itself without an exception\")\nfinally:\n    print(\"This block will always execute\")\n    f.close()\n    \nc.\nThe raise keyword in Python is used to manually raise exceptions. \nIt allows you to trigger specific exceptions when certain conditions are met.\n\nclass validateage(Exception):\n    def __int__(self,msg):\n        self.msg = msg\n\ndef validate_age(age):\n        if age<0:\n            raise validateage(\"Age shouldn't be less that 0\")\n        elif age>200:\n            raise validateage(\"Age too high\")\n        else:\n            print(\"Age is valid\")\n                   \ntry:\n    age = input(\"Enter your age\")\n    validate_age(age)\nexcept validate_age as e:\n    print(e)\n",
      "metadata": {},
      "id": "bfdff812-6995-4b1e-b26c-bed4be7ca231"
    },
    {
      "cell_type": "markdown",
      "source": "Q5. What are Custom Exceptions in Python? Why do we need Custom Exceptions? Explain with an example.\n\nAns.\n\nIn Python, custom exceptions are user-defined exception classes that you can create to represent specific error conditions or exceptional situations that are not covered by built-in exceptions.\nBy creating custom exceptions, you can provide more informative and specialized error messages to users of your code, making it easier to handle exceptional scenarios effectively.\n\nEg-\nclass validateage(Exception):\n    def __int__(self,msg):\n        self.msg = msg\n\ndef validate_age(age):\n        if age<0:\n            raise validateage(\"Age shouldn't be less that 0\")\n        elif age>200:\n            raise validateage(\"Age too high\")\n        else:\n            print(\"Age is valid\")\n                   \ntry:\n    age = input(\"Enter your age\")\n    validate_age(age)\nexcept validate_age as e:\n    print(e)\n\n",
      "metadata": {},
      "id": "94d8e34f-9970-47e9-9a6c-7ca1cb49fd8a"
    },
    {
      "cell_type": "markdown",
      "source": "Q6. Create a custom exception class. Use this class to handle an exception.\nAns.\nclass validateage(Exception):\n    def __int__(self,msg):\n        self.msg = msg\n\ndef validate_age(age):\n        if age<0:\n            raise validateage(\"Age shouldn't be less that 0\")\n        elif age>200:\n            raise validateage(\"Age too high\")\n        else:\n            print(\"Age is valid\")\n                   \ntry:\n    age = input(\"Enter your age\")\n    validate_age(age)\nexcept validate_age as e:\n    print(e)\n",
      "metadata": {},
      "id": "960f798d-2da6-4ab2-806b-3cbad864e972"
    }
  ]
}